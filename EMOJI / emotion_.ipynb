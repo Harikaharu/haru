{
  "nbformat": 4,
  "nbformat_minor": 0,
  "metadata": {
    "colab": {
      "provenance": [],
      "authorship_tag": "ABX9TyO3UOt+cNsCLuodBOwvPkls",
      "include_colab_link": true
    },
    "kernelspec": {
      "name": "python3",
      "display_name": "Python 3"
    },
    "language_info": {
      "name": "python"
    }
  },
  "cells": [
    {
      "cell_type": "markdown",
      "metadata": {
        "id": "view-in-github",
        "colab_type": "text"
      },
      "source": [
        "<a href=\"https://colab.research.google.com/github/Harikaharu/haru/blob/main/EMOJI%20/%20emotion_.ipynb\" target=\"_parent\"><img src=\"https://colab.research.google.com/assets/colab-badge.svg\" alt=\"Open In Colab\"/></a>"
      ]
    },
    {
      "cell_type": "code",
      "source": [
        "from PIL import Image\n",
        "import requests\n",
        "from transformers import CLIPProcessor, CLIPModel  # corrected class names\n",
        "import torch\n"
      ],
      "metadata": {
        "id": "nUMpyV6XMMLz"
      },
      "execution_count": 33,
      "outputs": []
    },
    {
      "cell_type": "code",
      "source": [
        "# Load model and processor (make sure to use consistent model names)\n",
        "model = CLIPModel.from_pretrained(\"openai/clip-vit-base-patch32\")\n",
        "processor = CLIPProcessor.from_pretrained(\"openai/clip-vit-base-patch32\")"
      ],
      "metadata": {
        "id": "1fKltvzcMg6X"
      },
      "execution_count": 34,
      "outputs": []
    },
    {
      "cell_type": "code",
      "source": [
        "prompts = [\"Happy\", \" Sad\", \"Angry\", \"Stressfull\", \"Cry\", \"Suprised\", \"Fear\", \"Scared\", \"Funny\", \"Shy\"]\n",
        "url = \"https://www.beyondphilosophy.com/wp-content/uploads/2012/11/Emolarge1.jpg\"\n",
        "image = Image.open(requests.get(url, stream=True).raw)"
      ],
      "metadata": {
        "id": "lGtamuCGMxvV"
      },
      "execution_count": 35,
      "outputs": []
    },
    {
      "cell_type": "code",
      "source": [
        "inputs = processor(text=prompts, images=image, return_tensors=\"pt\", padding=True)"
      ],
      "metadata": {
        "id": "JwXoz9S6NWmn"
      },
      "execution_count": 36,
      "outputs": []
    },
    {
      "cell_type": "code",
      "source": [
        "with torch.no_grad():\n",
        "    outputs = model(**inputs)"
      ],
      "metadata": {
        "id": "u4OZNvODNcjd"
      },
      "execution_count": 37,
      "outputs": []
    },
    {
      "cell_type": "code",
      "source": [
        "# Get similarity logits between image and text\n",
        "logits_per_image = outputs.logits_per_image  # shape: [1, number_of_prompts]"
      ],
      "metadata": {
        "id": "fvphyv0NNhA8"
      },
      "execution_count": 38,
      "outputs": []
    },
    {
      "cell_type": "code",
      "source": [
        "# Convert logits to probabilities\n",
        "probs = logits_per_image.softmax(dim=1).cpu().numpy()[0]"
      ],
      "metadata": {
        "id": "hFdTdYbaNkFU"
      },
      "execution_count": 39,
      "outputs": []
    },
    {
      "cell_type": "code",
      "source": [
        "# Print classification results\n",
        "print(\"Classification Results:\")\n",
        "for prompt, prob in zip(prompts, probs):\n",
        "    print(f\"{prompt}: {prob * 100:.2f}%\")\n",
        "\n",
        "# Get predicted label\n",
        "predicted_label = prompts[probs.argmax()]\n",
        "print(f\"Predicted label: {predicted_label}\")"
      ],
      "metadata": {
        "colab": {
          "base_uri": "https://localhost:8080/"
        },
        "id": "FM66dUpfNm5-",
        "outputId": "b123bff0-aa84-457b-e195-421f3495bf50"
      },
      "execution_count": 40,
      "outputs": [
        {
          "output_type": "stream",
          "name": "stdout",
          "text": [
            "Classification Results:\n",
            "Happy: 28.40%\n",
            " Sad: 2.41%\n",
            "Angry: 28.18%\n",
            "Stressfull: 24.64%\n",
            "Cry: 5.24%\n",
            "Suprised: 0.95%\n",
            "Fear: 2.29%\n",
            "Scared: 0.70%\n",
            "Funny: 6.39%\n",
            "Shy: 0.79%\n",
            "Predicted label: Happy\n"
          ]
        }
      ]
    }
  ]
}